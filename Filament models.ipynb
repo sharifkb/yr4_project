{
 "cells": [
  {
   "cell_type": "code",
   "execution_count": 2,
   "metadata": {},
   "outputs": [],
   "source": [
    "import numpy as np\n",
    "from astropy.modeling.models import Gaussian2D\n",
    "import matplotlib.pyplot as plt\n",
    "import matplotlib as mpl\n",
    "import random\n",
    "from astropy.io import fits"
   ]
  },
  {
   "cell_type": "code",
   "execution_count": 35,
   "metadata": {},
   "outputs": [
    {
     "data": {
      "image/png": "[encoded data removed]",
      "text/plain": [
       "<Figure size 432x288 with 1 Axes>"
      ]
     },
     "metadata": {
      "needs_background": "light"
     },
     "output_type": "display_data"
    }
   ],
   "source": [
    "f = 0\n",
    "while f < 100:\n",
    "    pos_x = random.uniform(0, 300)\n",
    "    pos_y = random.uniform(0, 300)\n",
    "    l = np.random.normal(200, 100)\n",
    "    w = l/np.random.normal(100, 10)\n",
    "    ang = np.random.normal(np.pi/2, 0.3*np.pi)\n",
    "\n",
    "    y, x = np.mgrid[0:300, 0:300]\n",
    "    data = Gaussian2D(1, pos_x, pos_y, l, w, theta=ang)(x, y)\n",
    "    plt.imshow(data, origin='lower')\n",
    "\n",
    "    hdu = fits.PrimaryHDU(data, header=None)\n",
    "    hdulist = fits.HDUList([hdu])\n",
    "    hdulist.writeto(r'C:\\Users\\shari\\Documents\\YR 4 Project\\My work\\Modelled Filaments\\fil{}.fits'.format(f), overwrite=True)\n",
    "    f+=1"
   ]
  },
  {
   "cell_type": "code",
   "execution_count": 34,
   "metadata": {},
   "outputs": [
    {
     "data": {
      "text/plain": [
       "9.920065043529434"
      ]
     },
     "execution_count": 34,
     "metadata": {},
     "output_type": "execute_result"
    }
   ],
   "source": [
    "np.random.normal(200, 100)"
   ]
  }
 ],
 "metadata": {
  "kernelspec": {
   "display_name": "Python 3",
   "language": "python",
   "name": "python3"
  },
  "language_info": {
   "codemirror_mode": {
    "name": "ipython",
    "version": 3
   },
   "file_extension": ".py",
   "mimetype": "text/x-python",
   "name": "python",
   "nbconvert_exporter": "python",
   "pygments_lexer": "ipython3",
   "version": "3.7.7"
  }
 },
 "nbformat": 4,
 "nbformat_minor": 4
}
