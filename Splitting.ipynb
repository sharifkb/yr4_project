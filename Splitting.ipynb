{
 "cells": [
  {
   "cell_type": "code",
   "execution_count": 1,
   "metadata": {},
   "outputs": [],
   "source": [
    "from astropy.io import fits \n",
    "from astropy import wcs\n",
    "import numpy as np\n",
    "from astropy.nddata import Cutout2D\n",
    "import matplotlib.pyplot as plt\n",
    "import astropy.units as u"
   ]
  },
  {
   "cell_type": "code",
   "execution_count": 3,
   "metadata": {},
   "outputs": [],
   "source": [
    "f = fits.open(\"MeerKAT_radio_bubbles.fits\")  #read in original FITS image with the input image path in in_file\n",
    "scidata = f[0].data.squeeze()\n",
    "scidata = np.where(np.isnan(scidata), 0, scidata)\n",
    "scidata = scidata - np.min(scidata)\n",
    "header = f[0].header\n",
    "w = wcs.WCS(header, naxis = 2)"
   ]
  },
  {
   "cell_type": "code",
   "execution_count": 4,
   "metadata": {},
   "outputs": [],
   "source": [
    "scidata = np.delete(scidata, np.s_[0:35], 0)\n",
    "scidata = np.delete(scidata, np.s_[0:31], 1)"
   ]
  },
  {
   "cell_type": "code",
   "execution_count": 5,
   "metadata": {
    "scrolled": true
   },
   "outputs": [
    {
     "data": {
      "text/plain": [
       "(11000, 8700)"
      ]
     },
     "execution_count": 5,
     "metadata": {},
     "output_type": "execute_result"
    }
   ],
   "source": [
    "scidata.shape"
   ]
  },
  {
   "cell_type": "code",
   "execution_count": 6,
   "metadata": {},
   "outputs": [],
   "source": [
    "b = 440\n",
    "a = 580\n",
    "\n",
    "size = ((a*u.pix, b*u.pix))"
   ]
  },
  {
   "cell_type": "code",
   "execution_count": 7,
   "metadata": {},
   "outputs": [],
   "source": [
    "def download_image_save_cutout(n, m, f):\n",
    "\n",
    "    cutout = Cutout2D(scidata, position=(a/2+n*a, b/2+m*b), size=size, wcs = w, mode='partial')\n",
    " \n",
    "    hdu = fits.PrimaryHDU(cutout.data, header=cutout.wcs.to_header())\n",
    "    hdulist = fits.HDUList([hdu])\n",
    "    hdulist.writeto(r'C:\\Users\\shari\\Documents\\YR 4 Project\\My work\\Images\\cut{}.fits'.format(f), overwrite=True)"
   ]
  },
  {
   "cell_type": "code",
   "execution_count": 8,
   "metadata": {},
   "outputs": [],
   "source": [
    "f = 0\n",
    "n = 0\n",
    "while n < scidata.shape[1]/a:\n",
    "    m = 0\n",
    "    while m < scidata.shape[0]/b:\n",
    "        download_image_save_cutout(n, m, f)\n",
    "        m+=1\n",
    "        f+=1\n",
    "    n+=1"
   ]
  },
  {
   "cell_type": "code",
   "execution_count": 13,
   "metadata": {},
   "outputs": [
    {
     "data": {
      "image/png": "[encoded data removed]",
      "text/plain": [
       "<Figure size 432x288 with 285 Axes>"
      ]
     },
     "metadata": {
      "needs_background": "light"
     },
     "output_type": "display_data"
    }
   ],
   "source": [
    "k = 0\n",
    "for i in range(int(scidata.shape[1]/b)):\n",
    "    for j in range(int(scidata.shape[1]/a)):\n",
    "        dat = fits.open(r'C:\\Users\\shari\\Documents\\YR 4 Project\\My work\\Images\\cut{}.fits'.format(k))[0]\n",
    "        plt.subplot(scidata.shape[1]/b,scidata.shape[1]/a,k+1)\n",
    "        plt.imshow(dat.data)\n",
    "        plt.axis(\"off\")\n",
    "        k+=1\n",
    "plt.subplots_adjust(wspace=0, hspace=0)"
   ]
  },
  {
   "cell_type": "code",
   "execution_count": null,
   "metadata": {},
   "outputs": [],
   "source": []
  }
 ],
 "metadata": {
  "kernelspec": {
   "display_name": "Python 3",
   "language": "python",
   "name": "python3"
  },
  "language_info": {
   "codemirror_mode": {
    "name": "ipython",
    "version": 3
   },
   "file_extension": ".py",
   "mimetype": "text/x-python",
   "name": "python",
   "nbconvert_exporter": "python",
   "pygments_lexer": "ipython3",
   "version": "3.7.7"
  }
 },
 "nbformat": 4,
 "nbformat_minor": 4
}
